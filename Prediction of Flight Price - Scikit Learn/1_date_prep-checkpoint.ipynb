{
 "cells": [
  {
   "cell_type": "code",
   "execution_count": 1,
   "metadata": {
    "collapsed": true
   },
   "outputs": [],
   "source": [
    "# test_10000.csv\n",
    "\n",
    "\n",
    "import numpy as np\n",
    "import pandas as pd\n",
    "import datetime as dt\n",
    "# import matplotlib.pyplot as plt\n",
    "#[]\n",
    "cols = ['ORIG','DEST','SALE_STR_DATE','TRAVEL_STR_DATE','SEASON_STR_DATE','DOW','MIN_STAY_UNIT','MIN_STAY_VAL','MAX_STAY_UNIT',\n",
    "        'MAX_STAY_VAL','AP_UNIT','AP_VALUE','RBD','']\n",
    "res_col = ['']\n",
    "path = 'test_10000.csv'\n",
    "df = pd.read_csv(path, usecols=cols)\n",
    "\n",
    "\n"
   ]
  },
  {
   "cell_type": "code",
   "execution_count": 2,
   "metadata": {
    "collapsed": true
   },
   "outputs": [],
   "source": [
    "\n",
    "def year_to_int(date):\n",
    "    return date.timetuple().tm_yday\n",
    "    \n",
    "#test it\n",
    "# today = dt.datetime.now()\n",
    "# print(today)\n",
    "# print(year_to_int(today))"
   ]
  },
  {
   "cell_type": "code",
   "execution_count": 3,
   "metadata": {
    "collapsed": true
   },
   "outputs": [],
   "source": [
    "def convert_rev_date(cur):\n",
    "        if cur is int : \n",
    "            print(\"already converted\")\n",
    "            return cur\n",
    "        [day,month,year] = [int(x) for x in cur.split('-')]\n",
    "        date = dt.datetime(day=day%100,month=month, year=year+2000)\n",
    "        date = year_to_int(date)\n",
    "        return date \n",
    "\n",
    "def convert_date_for(features):\n",
    "    for feature in features:\n",
    "        for i in range(df[feature].size):\n",
    "            cur = df.loc[i,feature]\n",
    "            df.loc[i, feature] = convert_rev_date(cur)\n"
   ]
  },
  {
   "cell_type": "code",
   "execution_count": 4,
   "metadata": {
    "scrolled": true
   },
   "outputs": [
    {
     "name": "stdout",
     "output_type": "stream",
     "text": [
      "done\n"
     ]
    }
   ],
   "source": [
    "convert_date_for(features=['SALE_STR_DATE','TRAVEL_STR_DATE','SEASON_STR_DATE'])\n",
    "print(\"done\")\n"
   ]
  },
  {
   "cell_type": "code",
   "execution_count": 6,
   "metadata": {},
   "outputs": [
    {
     "data": {
      "text/html": [
       "<div>\n",
       "<style>\n",
       "    .dataframe thead tr:only-child th {\n",
       "        text-align: right;\n",
       "    }\n",
       "\n",
       "    .dataframe thead th {\n",
       "        text-align: left;\n",
       "    }\n",
       "\n",
       "    .dataframe tbody tr th {\n",
       "        vertical-align: top;\n",
       "    }\n",
       "</style>\n",
       "<table border=\"1\" class=\"dataframe\">\n",
       "  <thead>\n",
       "    <tr style=\"text-align: right;\">\n",
       "      <th></th>\n",
       "      <th>JRNY_TYPE_ID</th>\n",
       "      <th>ORIG</th>\n",
       "      <th>DEST</th>\n",
       "      <th>COMPARTMENT</th>\n",
       "      <th>PAX_TYPE</th>\n",
       "      <th>SALE_STR_DATE</th>\n",
       "      <th>TRAVEL_STR_DATE</th>\n",
       "      <th>SEASON_STR_DATE</th>\n",
       "      <th>DOW</th>\n",
       "      <th>MIN_STAY_UNIT</th>\n",
       "      <th>MIN_STAY_VAL</th>\n",
       "      <th>MAX_STAY_UNIT</th>\n",
       "      <th>MAX_STAY_VAL</th>\n",
       "      <th>AP_UNIT</th>\n",
       "      <th>AP_VALUE</th>\n",
       "      <th>RBD</th>\n",
       "    </tr>\n",
       "  </thead>\n",
       "  <tbody>\n",
       "    <tr>\n",
       "      <th>0</th>\n",
       "      <td>2</td>\n",
       "      <td>ORL</td>\n",
       "      <td>CRK</td>\n",
       "      <td>Y</td>\n",
       "      <td>ADT</td>\n",
       "      <td>59</td>\n",
       "      <td>59</td>\n",
       "      <td>228</td>\n",
       "      <td>71234.0</td>\n",
       "      <td>1</td>\n",
       "      <td>SUN</td>\n",
       "      <td>M</td>\n",
       "      <td>6</td>\n",
       "      <td>NaN</td>\n",
       "      <td>NaN</td>\n",
       "      <td>B</td>\n",
       "    </tr>\n",
       "    <tr>\n",
       "      <th>1</th>\n",
       "      <td>2</td>\n",
       "      <td>ORL</td>\n",
       "      <td>DMM</td>\n",
       "      <td>Y</td>\n",
       "      <td>ADT</td>\n",
       "      <td>144</td>\n",
       "      <td>144</td>\n",
       "      <td>195</td>\n",
       "      <td>4567.0</td>\n",
       "      <td>NaN</td>\n",
       "      <td>NaN</td>\n",
       "      <td>M</td>\n",
       "      <td>12</td>\n",
       "      <td>NaN</td>\n",
       "      <td>NaN</td>\n",
       "      <td>E</td>\n",
       "    </tr>\n",
       "    <tr>\n",
       "      <th>2</th>\n",
       "      <td>2</td>\n",
       "      <td>HOU</td>\n",
       "      <td>KBL</td>\n",
       "      <td>Y</td>\n",
       "      <td>ADT</td>\n",
       "      <td>59</td>\n",
       "      <td>59</td>\n",
       "      <td>242</td>\n",
       "      <td>71234.0</td>\n",
       "      <td>NaN</td>\n",
       "      <td>NaN</td>\n",
       "      <td>M</td>\n",
       "      <td>12</td>\n",
       "      <td>NaN</td>\n",
       "      <td>NaN</td>\n",
       "      <td>E</td>\n",
       "    </tr>\n",
       "    <tr>\n",
       "      <th>3</th>\n",
       "      <td>2</td>\n",
       "      <td>WAS</td>\n",
       "      <td>BGW</td>\n",
       "      <td>Y</td>\n",
       "      <td>ADT</td>\n",
       "      <td>59</td>\n",
       "      <td>59</td>\n",
       "      <td>186</td>\n",
       "      <td>71234.0</td>\n",
       "      <td>1</td>\n",
       "      <td>SUN</td>\n",
       "      <td>M</td>\n",
       "      <td>6</td>\n",
       "      <td>NaN</td>\n",
       "      <td>NaN</td>\n",
       "      <td>U</td>\n",
       "    </tr>\n",
       "    <tr>\n",
       "      <th>4</th>\n",
       "      <td>2</td>\n",
       "      <td>CHI</td>\n",
       "      <td>KHI</td>\n",
       "      <td>Y</td>\n",
       "      <td>ADT</td>\n",
       "      <td>59</td>\n",
       "      <td>59</td>\n",
       "      <td>187</td>\n",
       "      <td>71234.0</td>\n",
       "      <td>1</td>\n",
       "      <td>SUN</td>\n",
       "      <td>M</td>\n",
       "      <td>6</td>\n",
       "      <td>NaN</td>\n",
       "      <td>NaN</td>\n",
       "      <td>U</td>\n",
       "    </tr>\n",
       "  </tbody>\n",
       "</table>\n",
       "</div>"
      ],
      "text/plain": [
       "   JRNY_TYPE_ID ORIG DEST COMPARTMENT PAX_TYPE SALE_STR_DATE TRAVEL_STR_DATE  \\\n",
       "0             2  ORL  CRK           Y      ADT            59              59   \n",
       "1             2  ORL  DMM           Y      ADT           144             144   \n",
       "2             2  HOU  KBL           Y      ADT            59              59   \n",
       "3             2  WAS  BGW           Y      ADT            59              59   \n",
       "4             2  CHI  KHI           Y      ADT            59              59   \n",
       "\n",
       "  SEASON_STR_DATE      DOW MIN_STAY_UNIT MIN_STAY_VAL MAX_STAY_UNIT  \\\n",
       "0             228  71234.0             1          SUN             M   \n",
       "1             195   4567.0           NaN          NaN             M   \n",
       "2             242  71234.0           NaN          NaN             M   \n",
       "3             186  71234.0             1          SUN             M   \n",
       "4             187  71234.0             1          SUN             M   \n",
       "\n",
       "   MAX_STAY_VAL AP_UNIT  AP_VALUE RBD  \n",
       "0             6     NaN       NaN   B  \n",
       "1            12     NaN       NaN   E  \n",
       "2            12     NaN       NaN   E  \n",
       "3             6     NaN       NaN   U  \n",
       "4             6     NaN       NaN   U  "
      ]
     },
     "execution_count": 6,
     "metadata": {},
     "output_type": "execute_result"
    }
   ],
   "source": [
    "df.head()"
   ]
  },
  {
   "cell_type": "code",
   "execution_count": 8,
   "metadata": {
    "collapsed": true
   },
   "outputs": [],
   "source": [
    "df.to_csv('test_10000_convered_date.csv')"
   ]
  },
  {
   "cell_type": "code",
   "execution_count": null,
   "metadata": {
    "collapsed": true
   },
   "outputs": [],
   "source": []
  }
 ],
 "metadata": {
  "kernelspec": {
   "display_name": "Python 3",
   "language": "python",
   "name": "python3"
  },
  "language_info": {
   "codemirror_mode": {
    "name": "ipython",
    "version": 3
   },
   "file_extension": ".py",
   "mimetype": "text/x-python",
   "name": "python",
   "nbconvert_exporter": "python",
   "pygments_lexer": "ipython3",
   "version": "3.6.2"
  }
 },
 "nbformat": 4,
 "nbformat_minor": 2
}
