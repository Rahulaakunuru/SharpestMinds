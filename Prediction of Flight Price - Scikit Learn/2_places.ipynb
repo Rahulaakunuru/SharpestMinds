{
 "cells": [
  {
   "cell_type": "code",
   "execution_count": 74,
   "metadata": {
    "collapsed": true
   },
   "outputs": [],
   "source": [
    "import numpy as np\n",
    "import pandas as pd\n",
    "import datetime as dt\n",
    "# import matplotlib.pyplot as plt\n",
    "#[]\n",
    "cols = ['ORIG','DEST','SALE_STR_DATE','TRAVEL_STR_DATE','SEASON_STR_DATE','DOW','MIN_STAY_UNIT','MIN_STAY_VAL','MAX_STAY_UNIT',\n",
    "        'MAX_STAY_VAL','AP_UNIT','AP_VALUE','RBD','FAREAMT_BC']\n",
    "res_col = ['']\n",
    "path = 'test_10000_convered_date.csv'\n",
    "df = pd.read_csv(path, usecols=cols)"
   ]
  },
  {
   "cell_type": "code",
   "execution_count": 75,
   "metadata": {
    "collapsed": true
   },
   "outputs": [],
   "source": [
    "\n",
    "place_to_int = dict()\n",
    "int_to_place = dict()\n",
    "            \n",
    "def create_dictionary(features):\n",
    "    global place_to_int, int_to_place\n",
    "    unique = set()\n",
    "    for feature in features:\n",
    "        for i in range(df[feature].size):\n",
    "            unique.add(df.loc[i,feature])\n",
    "    place_to_int = {val:i for i, val in enumerate(unique)}\n",
    "    int_to_place = dict(enumerate(unique))\n",
    "    print(unique)\n",
    "    print(place_to_int['ORL'])\n",
    "    print(int_to_place[15])\n",
    "            \n",
    "def convert_to_int(features):\n",
    "    for feature in features:\n",
    "        for i in range(df[feature].size):\n",
    "            cur = df.loc[i,feature]\n",
    "            if cur is int:\n",
    "                assert(\"cur is already number\")\n",
    "            df.loc[i, feature] = place_to_int[cur]"
   ]
  },
  {
   "cell_type": "code",
   "execution_count": 76,
   "metadata": {},
   "outputs": [
    {
     "name": "stdout",
     "output_type": "stream",
     "text": [
      "{'DFW', 'ADL', 'KBL', 'ACC', 'RGN', 'BLR', 'LAD', 'ADD', 'LHE', 'MUX', 'PEW', 'HKG', 'CCJ', 'MIL', 'PER', 'ORL', 'RUH', 'MNL', 'HRE', 'DXB', 'EBB', 'KRT', 'BKK', 'DKR', 'CAI', 'CAN', 'DAC', 'MRU', 'SKT', 'SFO', 'CMB', 'AMD', 'LUN', 'BJS', 'BNE', 'MAA', 'CRK', 'WAS', 'HOU', 'MCT', 'BOM', 'JKT', 'CHI', 'COK', 'CPT', 'ABJ', 'LOS', 'HKT', 'CHC', 'SEZ', 'TRV', 'HYD', 'KHI', 'SIN', 'MHD', 'LAX', 'JNB', 'BOS', 'BAH', 'NYC', 'ISB', 'BSR', 'BGW', 'SEA', 'THR', 'SHA', 'MLE', 'FLL', 'DAR', 'CCU', 'CEB', 'IST', 'DPS', 'AMM', 'DOH', 'DEL', 'JED', 'SYD', 'DMM', 'KUL', 'NBO', 'DUR', 'SGN', 'MEL', 'BEY', 'HAN', 'MED', 'KWI'}\n",
      "15\n",
      "ORL\n",
      "{'DFW': 0, 'ADL': 1, 'KBL': 2, 'ACC': 3, 'RGN': 4, 'BLR': 5, 'LAD': 6, 'ADD': 7, 'LHE': 8, 'MUX': 9, 'PEW': 10, 'HKG': 11, 'CCJ': 12, 'MIL': 13, 'PER': 14, 'ORL': 15, 'RUH': 16, 'MNL': 17, 'HRE': 18, 'DXB': 19, 'EBB': 20, 'KRT': 21, 'BKK': 22, 'DKR': 23, 'CAI': 24, 'CAN': 25, 'DAC': 26, 'MRU': 27, 'SKT': 28, 'SFO': 29, 'CMB': 30, 'AMD': 31, 'LUN': 32, 'BJS': 33, 'BNE': 34, 'MAA': 35, 'CRK': 36, 'WAS': 37, 'HOU': 38, 'MCT': 39, 'BOM': 40, 'JKT': 41, 'CHI': 42, 'COK': 43, 'CPT': 44, 'ABJ': 45, 'LOS': 46, 'HKT': 47, 'CHC': 48, 'SEZ': 49, 'TRV': 50, 'HYD': 51, 'KHI': 52, 'SIN': 53, 'MHD': 54, 'LAX': 55, 'JNB': 56, 'BOS': 57, 'BAH': 58, 'NYC': 59, 'ISB': 60, 'BSR': 61, 'BGW': 62, 'SEA': 63, 'THR': 64, 'SHA': 65, 'MLE': 66, 'FLL': 67, 'DAR': 68, 'CCU': 69, 'CEB': 70, 'IST': 71, 'DPS': 72, 'AMM': 73, 'DOH': 74, 'DEL': 75, 'JED': 76, 'SYD': 77, 'DMM': 78, 'KUL': 79, 'NBO': 80, 'DUR': 81, 'SGN': 82, 'MEL': 83, 'BEY': 84, 'HAN': 85, 'MED': 86, 'KWI': 87}\n"
     ]
    }
   ],
   "source": [
    "create_dictionary(['ORIG','DEST'])\n",
    "print(place_to_int)"
   ]
  },
  {
   "cell_type": "code",
   "execution_count": 77,
   "metadata": {},
   "outputs": [
    {
     "name": "stdout",
     "output_type": "stream",
     "text": [
      "{'DFW', 'ADL', 'KBL', 'ACC', 'RGN', 'BLR', 'LAD', 'ADD', 'LHE', 'MUX', 'PEW', 'HKG', 'CCJ', 'MIL', 'PER', 'ORL', 'RUH', 'MNL', 'HRE', 'DXB', 'EBB', 'KRT', 'BKK', 'DKR', 'CAI', 'CAN', 'DAC', 'MRU', 'SKT', 'SFO', 'CMB', 'AMD', 'LUN', 'BJS', 'BNE', 'MAA', 'CRK', 'WAS', 'HOU', 'MCT', 'BOM', 'JKT', 'CHI', 'COK', 'CPT', 'ABJ', 'LOS', 'HKT', 'CHC', 'SEZ', 'TRV', 'HYD', 'KHI', 'SIN', 'MHD', 'LAX', 'JNB', 'BOS', 'BAH', 'NYC', 'ISB', 'BSR', 'BGW', 'SEA', 'THR', 'SHA', 'MLE', 'FLL', 'DAR', 'CCU', 'CEB', 'IST', 'DPS', 'AMM', 'DOH', 'DEL', 'JED', 'SYD', 'DMM', 'KUL', 'NBO', 'DUR', 'SGN', 'MEL', 'BEY', 'HAN', 'MED', 'KWI'}\n",
      "15\n",
      "ORL\n"
     ]
    }
   ],
   "source": [
    "create_dictionary(['ORIG','DEST'])\n",
    "convert_to_int(['ORIG','DEST'])"
   ]
  },
  {
   "cell_type": "code",
   "execution_count": 70,
   "metadata": {},
   "outputs": [
    {
     "data": {
      "text/html": [
       "<div>\n",
       "<style>\n",
       "    .dataframe thead tr:only-child th {\n",
       "        text-align: right;\n",
       "    }\n",
       "\n",
       "    .dataframe thead th {\n",
       "        text-align: left;\n",
       "    }\n",
       "\n",
       "    .dataframe tbody tr th {\n",
       "        vertical-align: top;\n",
       "    }\n",
       "</style>\n",
       "<table border=\"1\" class=\"dataframe\">\n",
       "  <thead>\n",
       "    <tr style=\"text-align: right;\">\n",
       "      <th></th>\n",
       "      <th>ORIG</th>\n",
       "      <th>DEST</th>\n",
       "      <th>SALE_STR_DATE</th>\n",
       "      <th>TRAVEL_STR_DATE</th>\n",
       "      <th>SEASON_STR_DATE</th>\n",
       "      <th>DOW</th>\n",
       "      <th>MIN_STAY_UNIT</th>\n",
       "      <th>MIN_STAY_VAL</th>\n",
       "      <th>MAX_STAY_UNIT</th>\n",
       "      <th>MAX_STAY_VAL</th>\n",
       "      <th>FAREAMT_BC</th>\n",
       "      <th>AP_UNIT</th>\n",
       "      <th>AP_VALUE</th>\n",
       "      <th>RBD</th>\n",
       "    </tr>\n",
       "  </thead>\n",
       "  <tbody>\n",
       "    <tr>\n",
       "      <th>0</th>\n",
       "      <td>15</td>\n",
       "      <td>36</td>\n",
       "      <td>59</td>\n",
       "      <td>59</td>\n",
       "      <td>228</td>\n",
       "      <td>71234.0</td>\n",
       "      <td>1</td>\n",
       "      <td>SUN</td>\n",
       "      <td>M</td>\n",
       "      <td>6</td>\n",
       "      <td>1036</td>\n",
       "      <td>NaN</td>\n",
       "      <td>NaN</td>\n",
       "      <td>B</td>\n",
       "    </tr>\n",
       "    <tr>\n",
       "      <th>1</th>\n",
       "      <td>15</td>\n",
       "      <td>78</td>\n",
       "      <td>144</td>\n",
       "      <td>144</td>\n",
       "      <td>195</td>\n",
       "      <td>4567.0</td>\n",
       "      <td>NaN</td>\n",
       "      <td>NaN</td>\n",
       "      <td>M</td>\n",
       "      <td>12</td>\n",
       "      <td>1744</td>\n",
       "      <td>NaN</td>\n",
       "      <td>NaN</td>\n",
       "      <td>E</td>\n",
       "    </tr>\n",
       "    <tr>\n",
       "      <th>2</th>\n",
       "      <td>38</td>\n",
       "      <td>2</td>\n",
       "      <td>59</td>\n",
       "      <td>59</td>\n",
       "      <td>242</td>\n",
       "      <td>71234.0</td>\n",
       "      <td>NaN</td>\n",
       "      <td>NaN</td>\n",
       "      <td>M</td>\n",
       "      <td>12</td>\n",
       "      <td>1613</td>\n",
       "      <td>NaN</td>\n",
       "      <td>NaN</td>\n",
       "      <td>E</td>\n",
       "    </tr>\n",
       "    <tr>\n",
       "      <th>3</th>\n",
       "      <td>37</td>\n",
       "      <td>62</td>\n",
       "      <td>59</td>\n",
       "      <td>59</td>\n",
       "      <td>186</td>\n",
       "      <td>71234.0</td>\n",
       "      <td>1</td>\n",
       "      <td>SUN</td>\n",
       "      <td>M</td>\n",
       "      <td>6</td>\n",
       "      <td>1374</td>\n",
       "      <td>NaN</td>\n",
       "      <td>NaN</td>\n",
       "      <td>U</td>\n",
       "    </tr>\n",
       "    <tr>\n",
       "      <th>4</th>\n",
       "      <td>42</td>\n",
       "      <td>52</td>\n",
       "      <td>59</td>\n",
       "      <td>59</td>\n",
       "      <td>187</td>\n",
       "      <td>71234.0</td>\n",
       "      <td>1</td>\n",
       "      <td>SUN</td>\n",
       "      <td>M</td>\n",
       "      <td>6</td>\n",
       "      <td>888</td>\n",
       "      <td>NaN</td>\n",
       "      <td>NaN</td>\n",
       "      <td>U</td>\n",
       "    </tr>\n",
       "  </tbody>\n",
       "</table>\n",
       "</div>"
      ],
      "text/plain": [
       "  ORIG DEST  SALE_STR_DATE  TRAVEL_STR_DATE  SEASON_STR_DATE      DOW  \\\n",
       "0   15   36             59               59              228  71234.0   \n",
       "1   15   78            144              144              195   4567.0   \n",
       "2   38    2             59               59              242  71234.0   \n",
       "3   37   62             59               59              186  71234.0   \n",
       "4   42   52             59               59              187  71234.0   \n",
       "\n",
       "  MIN_STAY_UNIT MIN_STAY_VAL MAX_STAY_UNIT  MAX_STAY_VAL  FAREAMT_BC AP_UNIT  \\\n",
       "0             1          SUN             M             6        1036     NaN   \n",
       "1           NaN          NaN             M            12        1744     NaN   \n",
       "2           NaN          NaN             M            12        1613     NaN   \n",
       "3             1          SUN             M             6        1374     NaN   \n",
       "4             1          SUN             M             6         888     NaN   \n",
       "\n",
       "   AP_VALUE RBD  \n",
       "0       NaN   B  \n",
       "1       NaN   E  \n",
       "2       NaN   E  \n",
       "3       NaN   U  \n",
       "4       NaN   U  "
      ]
     },
     "execution_count": 70,
     "metadata": {},
     "output_type": "execute_result"
    }
   ],
   "source": [
    "df.head()"
   ]
  },
  {
   "cell_type": "code",
   "execution_count": 78,
   "metadata": {
    "collapsed": true
   },
   "outputs": [],
   "source": [
    "df.to_csv('test_10000_convered_places.csv')"
   ]
  },
  {
   "cell_type": "code",
   "execution_count": null,
   "metadata": {
    "collapsed": true
   },
   "outputs": [],
   "source": []
  }
 ],
 "metadata": {
  "kernelspec": {
   "display_name": "Python 3",
   "language": "python",
   "name": "python3"
  },
  "language_info": {
   "codemirror_mode": {
    "name": "ipython",
    "version": 3
   },
   "file_extension": ".py",
   "mimetype": "text/x-python",
   "name": "python",
   "nbconvert_exporter": "python",
   "pygments_lexer": "ipython3",
   "version": "3.6.1"
  }
 },
 "nbformat": 4,
 "nbformat_minor": 2
}
