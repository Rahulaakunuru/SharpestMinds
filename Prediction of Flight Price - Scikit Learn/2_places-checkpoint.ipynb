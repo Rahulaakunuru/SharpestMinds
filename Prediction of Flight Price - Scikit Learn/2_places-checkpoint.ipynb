{
 "cells": [
  {
   "cell_type": "code",
   "execution_count": 1,
   "metadata": {},
   "outputs": [],
   "source": [
    "import numpy as np\n",
    "import pandas as pd\n",
    "import datetime as dt\n",
    "# import matplotlib.pyplot as plt\n",
    "#[]\n",
    "cols = ['ORIG','DEST','SALE_STR_DATE','TRAVEL_STR_DATE','SEASON_STR_DATE','DOW','MIN_STAY_UNIT','MIN_STAY_VAL','MAX_STAY_UNIT',\n",
    "        'MAX_STAY_VAL','AP_UNIT','AP_VALUE','RBD','FAREAMT_BC']\n",
    "res_col = ['']\n",
    "path = 'test_10000_convered_date.csv'\n",
    "df = pd.read_csv(path, usecols=cols)"
   ]
  },
  {
   "cell_type": "code",
   "execution_count": 2,
   "metadata": {},
   "outputs": [],
   "source": [
    "\n",
    "place_to_int = dict()\n",
    "int_to_place = dict()\n",
    "            \n",
    "def create_dictionary(features):\n",
    "    global place_to_int, int_to_place\n",
    "    unique = set()\n",
    "    for feature in features:\n",
    "        for i in range(df[feature].size):\n",
    "            unique.add(df.loc[i,feature])\n",
    "    place_to_int = {val:i for i, val in enumerate(unique)}\n",
    "    int_to_place = dict(enumerate(unique))\n",
    "    print(unique)\n",
    "    print(place_to_int['ORL'])\n",
    "    print(int_to_place[15])\n",
    "            \n",
    "def convert_to_int(features):\n",
    "    for feature in features:\n",
    "        for i in range(df[feature].size):\n",
    "            cur = df.loc[i,feature]\n",
    "            if cur is int:\n",
    "                assert(\"cur is already number\")\n",
    "            df.loc[i, feature] = place_to_int[cur]"
   ]
  },
  {
   "cell_type": "code",
   "execution_count": 3,
   "metadata": {},
   "outputs": [
    {
     "name": "stdout",
     "output_type": "stream",
     "text": [
      "{'JNB', 'HAN', 'MIL', 'SIN', 'PEW', 'ABJ', 'DFW', 'CRK', 'BSR', 'LUN', 'KBL', 'NBO', 'BNE', 'ORL', 'LOS', 'KHI', 'PER', 'DMM', 'BAH', 'CMB', 'AMM', 'HKT', 'EBB', 'ADL', 'FLL', 'ACC', 'RGN', 'KUL', 'KRT', 'KWI', 'BEY', 'MED', 'CHC', 'MRU', 'COK', 'CCU', 'DPS', 'BJS', 'BOM', 'IST', 'BOS', 'SEA', 'LAX', 'DEL', 'DAC', 'ADD', 'JED', 'DUR', 'BLR', 'DXB', 'NYC', 'CAN', 'WAS', 'LAD', 'SYD', 'MCT', 'MNL', 'SHA', 'DOH', 'ISB', 'HRE', 'SKT', 'SFO', 'HOU', 'CCJ', 'CAI', 'RUH', 'MUX', 'BKK', 'MAA', 'JKT', 'CPT', 'AMD', 'DKR', 'HYD', 'TRV', 'DAR', 'MLE', 'MEL', 'SEZ', 'CEB', 'SGN', 'CHI', 'BGW', 'THR', 'MHD', 'HKG', 'LHE'}\n",
      "13\n",
      "KHI\n",
      "{'JNB': 0, 'HAN': 1, 'MIL': 2, 'SIN': 3, 'PEW': 4, 'ABJ': 5, 'DFW': 6, 'CRK': 7, 'BSR': 8, 'LUN': 9, 'KBL': 10, 'NBO': 11, 'BNE': 12, 'ORL': 13, 'LOS': 14, 'KHI': 15, 'PER': 16, 'DMM': 17, 'BAH': 18, 'CMB': 19, 'AMM': 20, 'HKT': 21, 'EBB': 22, 'ADL': 23, 'FLL': 24, 'ACC': 25, 'RGN': 26, 'KUL': 27, 'KRT': 28, 'KWI': 29, 'BEY': 30, 'MED': 31, 'CHC': 32, 'MRU': 33, 'COK': 34, 'CCU': 35, 'DPS': 36, 'BJS': 37, 'BOM': 38, 'IST': 39, 'BOS': 40, 'SEA': 41, 'LAX': 42, 'DEL': 43, 'DAC': 44, 'ADD': 45, 'JED': 46, 'DUR': 47, 'BLR': 48, 'DXB': 49, 'NYC': 50, 'CAN': 51, 'WAS': 52, 'LAD': 53, 'SYD': 54, 'MCT': 55, 'MNL': 56, 'SHA': 57, 'DOH': 58, 'ISB': 59, 'HRE': 60, 'SKT': 61, 'SFO': 62, 'HOU': 63, 'CCJ': 64, 'CAI': 65, 'RUH': 66, 'MUX': 67, 'BKK': 68, 'MAA': 69, 'JKT': 70, 'CPT': 71, 'AMD': 72, 'DKR': 73, 'HYD': 74, 'TRV': 75, 'DAR': 76, 'MLE': 77, 'MEL': 78, 'SEZ': 79, 'CEB': 80, 'SGN': 81, 'CHI': 82, 'BGW': 83, 'THR': 84, 'MHD': 85, 'HKG': 86, 'LHE': 87}\n"
     ]
    }
   ],
   "source": [
    "create_dictionary(['ORIG','DEST'])\n",
    "print(place_to_int)"
   ]
  },
  {
   "cell_type": "code",
   "execution_count": 4,
   "metadata": {},
   "outputs": [
    {
     "name": "stdout",
     "output_type": "stream",
     "text": [
      "{'JNB', 'HAN', 'MIL', 'SIN', 'PEW', 'ABJ', 'DFW', 'CRK', 'BSR', 'LUN', 'KBL', 'NBO', 'BNE', 'ORL', 'LOS', 'KHI', 'PER', 'DMM', 'BAH', 'CMB', 'AMM', 'HKT', 'EBB', 'ADL', 'FLL', 'ACC', 'RGN', 'KUL', 'KRT', 'KWI', 'BEY', 'MED', 'CHC', 'MRU', 'COK', 'CCU', 'DPS', 'BJS', 'BOM', 'IST', 'BOS', 'SEA', 'LAX', 'DEL', 'DAC', 'ADD', 'JED', 'DUR', 'BLR', 'DXB', 'NYC', 'CAN', 'WAS', 'LAD', 'SYD', 'MCT', 'MNL', 'SHA', 'DOH', 'ISB', 'HRE', 'SKT', 'SFO', 'HOU', 'CCJ', 'CAI', 'RUH', 'MUX', 'BKK', 'MAA', 'JKT', 'CPT', 'AMD', 'DKR', 'HYD', 'TRV', 'DAR', 'MLE', 'MEL', 'SEZ', 'CEB', 'SGN', 'CHI', 'BGW', 'THR', 'MHD', 'HKG', 'LHE'}\n",
      "13\n",
      "KHI\n"
     ]
    }
   ],
   "source": [
    "create_dictionary(['ORIG','DEST'])\n",
    "convert_to_int(['ORIG','DEST'])"
   ]
  },
  {
   "cell_type": "code",
   "execution_count": 5,
   "metadata": {},
   "outputs": [
    {
     "data": {
      "text/html": [
       "<div>\n",
       "<style>\n",
       "    .dataframe thead tr:only-child th {\n",
       "        text-align: right;\n",
       "    }\n",
       "\n",
       "    .dataframe thead th {\n",
       "        text-align: left;\n",
       "    }\n",
       "\n",
       "    .dataframe tbody tr th {\n",
       "        vertical-align: top;\n",
       "    }\n",
       "</style>\n",
       "<table border=\"1\" class=\"dataframe\">\n",
       "  <thead>\n",
       "    <tr style=\"text-align: right;\">\n",
       "      <th></th>\n",
       "      <th>ORIG</th>\n",
       "      <th>DEST</th>\n",
       "      <th>SALE_STR_DATE</th>\n",
       "      <th>TRAVEL_STR_DATE</th>\n",
       "      <th>SEASON_STR_DATE</th>\n",
       "      <th>DOW</th>\n",
       "      <th>MIN_STAY_UNIT</th>\n",
       "      <th>MIN_STAY_VAL</th>\n",
       "      <th>MAX_STAY_UNIT</th>\n",
       "      <th>MAX_STAY_VAL</th>\n",
       "      <th>FAREAMT_BC</th>\n",
       "      <th>AP_UNIT</th>\n",
       "      <th>AP_VALUE</th>\n",
       "      <th>RBD</th>\n",
       "    </tr>\n",
       "  </thead>\n",
       "  <tbody>\n",
       "    <tr>\n",
       "      <th>0</th>\n",
       "      <td>13</td>\n",
       "      <td>7</td>\n",
       "      <td>59</td>\n",
       "      <td>59</td>\n",
       "      <td>228</td>\n",
       "      <td>71234.0</td>\n",
       "      <td>1</td>\n",
       "      <td>SUN</td>\n",
       "      <td>M</td>\n",
       "      <td>6</td>\n",
       "      <td>1036</td>\n",
       "      <td>NaN</td>\n",
       "      <td>NaN</td>\n",
       "      <td>B</td>\n",
       "    </tr>\n",
       "    <tr>\n",
       "      <th>1</th>\n",
       "      <td>13</td>\n",
       "      <td>17</td>\n",
       "      <td>144</td>\n",
       "      <td>144</td>\n",
       "      <td>195</td>\n",
       "      <td>4567.0</td>\n",
       "      <td>NaN</td>\n",
       "      <td>NaN</td>\n",
       "      <td>M</td>\n",
       "      <td>12</td>\n",
       "      <td>1744</td>\n",
       "      <td>NaN</td>\n",
       "      <td>NaN</td>\n",
       "      <td>E</td>\n",
       "    </tr>\n",
       "    <tr>\n",
       "      <th>2</th>\n",
       "      <td>63</td>\n",
       "      <td>10</td>\n",
       "      <td>59</td>\n",
       "      <td>59</td>\n",
       "      <td>242</td>\n",
       "      <td>71234.0</td>\n",
       "      <td>NaN</td>\n",
       "      <td>NaN</td>\n",
       "      <td>M</td>\n",
       "      <td>12</td>\n",
       "      <td>1613</td>\n",
       "      <td>NaN</td>\n",
       "      <td>NaN</td>\n",
       "      <td>E</td>\n",
       "    </tr>\n",
       "    <tr>\n",
       "      <th>3</th>\n",
       "      <td>52</td>\n",
       "      <td>83</td>\n",
       "      <td>59</td>\n",
       "      <td>59</td>\n",
       "      <td>186</td>\n",
       "      <td>71234.0</td>\n",
       "      <td>1</td>\n",
       "      <td>SUN</td>\n",
       "      <td>M</td>\n",
       "      <td>6</td>\n",
       "      <td>1374</td>\n",
       "      <td>NaN</td>\n",
       "      <td>NaN</td>\n",
       "      <td>U</td>\n",
       "    </tr>\n",
       "    <tr>\n",
       "      <th>4</th>\n",
       "      <td>82</td>\n",
       "      <td>15</td>\n",
       "      <td>59</td>\n",
       "      <td>59</td>\n",
       "      <td>187</td>\n",
       "      <td>71234.0</td>\n",
       "      <td>1</td>\n",
       "      <td>SUN</td>\n",
       "      <td>M</td>\n",
       "      <td>6</td>\n",
       "      <td>888</td>\n",
       "      <td>NaN</td>\n",
       "      <td>NaN</td>\n",
       "      <td>U</td>\n",
       "    </tr>\n",
       "  </tbody>\n",
       "</table>\n",
       "</div>"
      ],
      "text/plain": [
       "  ORIG DEST  SALE_STR_DATE  TRAVEL_STR_DATE  SEASON_STR_DATE      DOW  \\\n",
       "0   13    7             59               59              228  71234.0   \n",
       "1   13   17            144              144              195   4567.0   \n",
       "2   63   10             59               59              242  71234.0   \n",
       "3   52   83             59               59              186  71234.0   \n",
       "4   82   15             59               59              187  71234.0   \n",
       "\n",
       "  MIN_STAY_UNIT MIN_STAY_VAL MAX_STAY_UNIT  MAX_STAY_VAL  FAREAMT_BC AP_UNIT  \\\n",
       "0             1          SUN             M             6        1036     NaN   \n",
       "1           NaN          NaN             M            12        1744     NaN   \n",
       "2           NaN          NaN             M            12        1613     NaN   \n",
       "3             1          SUN             M             6        1374     NaN   \n",
       "4             1          SUN             M             6         888     NaN   \n",
       "\n",
       "   AP_VALUE RBD  \n",
       "0       NaN   B  \n",
       "1       NaN   E  \n",
       "2       NaN   E  \n",
       "3       NaN   U  \n",
       "4       NaN   U  "
      ]
     },
     "execution_count": 5,
     "metadata": {},
     "output_type": "execute_result"
    }
   ],
   "source": [
    "df.head()"
   ]
  },
  {
   "cell_type": "code",
   "execution_count": 6,
   "metadata": {},
   "outputs": [],
   "source": [
    "df.to_csv('test_10000_convered_places.csv')"
   ]
  },
  {
   "cell_type": "code",
   "execution_count": null,
   "metadata": {},
   "outputs": [],
   "source": []
  }
 ],
 "metadata": {
  "kernelspec": {
   "display_name": "Python 3",
   "language": "python",
   "name": "python3"
  },
  "language_info": {
   "codemirror_mode": {
    "name": "ipython",
    "version": 3
   },
   "file_extension": ".py",
   "mimetype": "text/x-python",
   "name": "python",
   "nbconvert_exporter": "python",
   "pygments_lexer": "ipython3",
   "version": "3.6.2"
  }
 },
 "nbformat": 4,
 "nbformat_minor": 2
}
